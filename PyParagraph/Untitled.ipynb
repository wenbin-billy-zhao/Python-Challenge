{
 "cells": [
  {
   "cell_type": "code",
   "execution_count": 5,
   "metadata": {},
   "outputs": [
    {
     "name": "stdout",
     "output_type": "stream",
     "text": [
      "Please choose which file to summarize: [1] or [2]1\n",
      "user selected: raw_data/paragraph_1.txt\n",
      "\n",
      "\n",
      "Paragraph Analysis\n",
      "--------------------------------------------------\n",
      "Approximate Word Count: 130\n",
      "Approximate Sentence Count : 5\n",
      "Average letter count: 6.25\n",
      "Average Sentence Length: 26.0\n"
     ]
    }
   ],
   "source": [
    "# %load PyParagraph-main-Billy-Zhao.py\n",
    "import re\n",
    "import os\n",
    "\n",
    "selection = input('Please choose which file to summarize: [1] or [2]')\n",
    "\n",
    "if selection == '1':\n",
    "    filename = 'raw_data/paragraph_1.txt'\n",
    "else:\n",
    "    filename = 'raw_data/paragraph_2.txt'\n",
    "    \n",
    "print(f\"user selected: {filename}\\n\\n\")\n",
    "file = open(filename, 'r')\n",
    "\n",
    "text = file.read()\n",
    "\n",
    "letter_count = sum(c.isalpha() for c in text)\n",
    "\n",
    "sentence_readout = re.split(\"(?<=[.!?]) +\", text)\n",
    "# word_readout = re.split(\" \", text)\n",
    "word_count = len(text.split(' '))\n",
    "\n",
    "print('Paragraph Analysis')\n",
    "print('-'*50)\n",
    "\n",
    "# word_count = len(word_readout)\n",
    "print(f\"Approximate Word Count: {word_count}\")\n",
    "\n",
    "sentence_count = len(sentence_readout)\n",
    "print(f\"Approximate Sentence Count : {sentence_count}\")\n",
    "\n",
    "print(\"Average letter count: \" + str(round(letter_count/word_count,2)))\n",
    "\n",
    "print(f\"Average Sentence Length: {word_count / sentence_count}\")"
   ]
  },
  {
   "cell_type": "code",
   "execution_count": null,
   "metadata": {},
   "outputs": [],
   "source": []
  },
  {
   "cell_type": "code",
   "execution_count": null,
   "metadata": {},
   "outputs": [],
   "source": []
  }
 ],
 "metadata": {
  "kernelspec": {
   "display_name": "Python(PythonData)",
   "language": "python",
   "name": "pythondata"
  },
  "language_info": {
   "codemirror_mode": {
    "name": "ipython",
    "version": 3
   },
   "file_extension": ".py",
   "mimetype": "text/x-python",
   "name": "python",
   "nbconvert_exporter": "python",
   "pygments_lexer": "ipython3",
   "version": "3.6.7"
  }
 },
 "nbformat": 4,
 "nbformat_minor": 2
}
