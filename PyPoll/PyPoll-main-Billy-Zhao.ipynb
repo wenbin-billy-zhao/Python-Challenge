{
 "cells": [
  {
   "cell_type": "code",
   "execution_count": 1,
   "metadata": {},
   "outputs": [],
   "source": [
    "# import moduels\n",
    "import os\n",
    "import csv\n",
    "\n",
    "# create file path\n",
    "fname=\"Resources/election_data.csv\"\n",
    "outputfile = \"election_result.txt\"\n",
    "\n",
    "# these are the important variables for the election result\n",
    "voteList = []\n",
    "# the following lists are 1- unique candidates, 2- percentage of their votes, 3- total count of their votes\n",
    "candidates = []\n",
    "pctCandidate = []\n",
    "countCandidate = []\n",
    "\n",
    "totalVote = 0"
   ]
  },
  {
   "cell_type": "code",
   "execution_count": 2,
   "metadata": {},
   "outputs": [],
   "source": [
    "with open(fname, 'r') as csvfile:\n",
    "    csvreader = csv.reader(csvfile, delimiter=',')\n",
    "    csvheader = next(csvreader)\n",
    "    for row in csvreader:\n",
    "        voteList.append(row[2])\n",
    "        \n",
    "totalVote = len(voteList)"
   ]
  },
  {
   "cell_type": "code",
   "execution_count": 3,
   "metadata": {},
   "outputs": [],
   "source": [
    "# find all the candidates and assign their indexes\n",
    "for name in voteList:\n",
    "   if name not in candidates:\n",
    "        candidates.append(name)\n",
    "        x = name"
   ]
  },
  {
   "cell_type": "code",
   "execution_count": 4,
   "metadata": {},
   "outputs": [
    {
     "name": "stdout",
     "output_type": "stream",
     "text": [
      "Election Results\n",
      "--------------------------------------------------\n",
      "Total Votes: 3521001\n",
      "--------------------------------------------------\n",
      "Khan: 63.000% (2218231)\n",
      "Correy: 20.000% (704200)\n",
      "Li: 14.000% (492940)\n",
      "O'Tooley: 3.000% (105630)\n",
      "--------------------------------------------------\n",
      "Winner: Khan\n",
      "--------------------------------------------------\n"
     ]
    }
   ],
   "source": [
    "# counter for the total votes for each candidates\n",
    "count = 0\n",
    "# set the first candidate on the voteList for the loop\n",
    "candidate = voteList[0]\n",
    "#\n",
    "lastCount = 0\n",
    "# Print out top part of the Election Results\n",
    "print(\"Election Results\")\n",
    "print(\"-\"*50)\n",
    "print(f\"Total Votes: {totalVote}\")\n",
    "print(\"-\"*50)\n",
    "\n",
    "for candidate in candidates:\n",
    "    for vote in voteList:\n",
    "        if candidate == vote:\n",
    "            count += 1\n",
    "    percent = count / len(voteList)\n",
    "    pctCandidate.append(percent)\n",
    "    countCandidate.append(count)\n",
    "    \n",
    "    if lastCount < count:\n",
    "        Winner = candidate    \n",
    "    print(f\"{candidate}: {percent:.3%} ({count})\")\n",
    "    \n",
    "    # reset vote count to zero\n",
    "    lastCount = count\n",
    "    count = 0\n",
    "\n",
    "# print out the winner\n",
    "print(\"-\"*50)\n",
    "print(f\"Winner: {Winner}\")\n",
    "print(\"-\"*50)"
   ]
  },
  {
   "cell_type": "code",
   "execution_count": 5,
   "metadata": {},
   "outputs": [],
   "source": [
    "# Output result to txt file\n",
    "with open(outputfile, 'w') as output:\n",
    "    output.write(\"Election Results\\n\")\n",
    "    output.write(\"-\"*50+\"\\n\")\n",
    "    output.write(f\"Total Votes: {totalVote}\\n\")\n",
    "    output.write(\"-\"*50+\"\\n\")\n",
    "    for candidate in candidates:\n",
    "        index = candidates.index(candidate)\n",
    "        output.write(f\"{candidate}: {pctCandidate[index]:.3%} ({countCandidate[index]})\\n\")\n",
    "    output.write(\"-\"*50+\"\\n\")\n",
    "    output.write(f\"Winner: {Winner}\\n\")\n",
    "    "
   ]
  },
  {
   "cell_type": "code",
   "execution_count": null,
   "metadata": {},
   "outputs": [],
   "source": []
  }
 ],
 "metadata": {
  "kernelspec": {
   "display_name": "Python(PythonData)",
   "language": "python",
   "name": "pythondata"
  },
  "language_info": {
   "codemirror_mode": {
    "name": "ipython",
    "version": 3
   },
   "file_extension": ".py",
   "mimetype": "text/x-python",
   "name": "python",
   "nbconvert_exporter": "python",
   "pygments_lexer": "ipython3",
   "version": "3.6.7"
  }
 },
 "nbformat": 4,
 "nbformat_minor": 2
}
