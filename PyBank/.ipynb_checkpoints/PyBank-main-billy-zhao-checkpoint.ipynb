{
 "cells": [
  {
   "cell_type": "code",
   "execution_count": 1,
   "metadata": {},
   "outputs": [],
   "source": [
    "# import Python Modules \n",
    "import os\n",
    "import csv"
   ]
  },
  {
   "cell_type": "code",
   "execution_count": 2,
   "metadata": {},
   "outputs": [],
   "source": [
    "# set file path\n",
    "fname = 'budget_data.csv'\n",
    "\n",
    "# set variables\n",
    "MonthCount = 0\n",
    "Total = 0\n",
    "PL = []\n",
    "monthList = []\n",
    "monthlyChanges = []\n",
    "\n",
    "# read input csv file\n",
    "with open(fname, 'r') as csvfile:\n",
    "    csvreader = csv.reader(csvfile, delimiter=\",\")\n",
    "    # skip first row which contains headers\n",
    "    csvheader = next(csvreader)\n",
    "    \n",
    "    for row in csvreader:\n",
    "        MonthCount += 1\n",
    "        Total += int(row[1])\n",
    "        PL.append(row[1])\n",
    "        monthList.append(row[0])\n",
    " "
   ]
  },
  {
   "cell_type": "code",
   "execution_count": 3,
   "metadata": {},
   "outputs": [],
   "source": [
    "# first month P&L value\n",
    "firstPL = int(PL[0])\n",
    "\n",
    "# this loop creates a list of monthly changes\n",
    "for i in range(1, len(PL)):\n",
    "    monthlyChanges.append(int(PL[i]) - firstPL)\n",
    "    firstPL = int(PL[i])\n",
    "    i += 1\n",
    "\n",
    "AvgChange = sum(monthlyChanges) / len(monthlyChanges)"
   ]
  },
  {
   "cell_type": "code",
   "execution_count": 4,
   "metadata": {},
   "outputs": [
    {
     "name": "stdout",
     "output_type": "stream",
     "text": [
      "Financial Analysis\n",
      "--------------------------------------------------\n",
      "Total Months: 86\n",
      "Total: $38382578\n",
      "Average Change: $-2315.1176470588234\n",
      "Greatest Increase in Profits: Dec-2011  ($1926159)\n",
      "Greatest Decrease in Profits: Jul-2013 ($-2196167)\n"
     ]
    }
   ],
   "source": [
    "# find max increase and min increase\n",
    "MaxIncrease = max(monthlyChanges)\n",
    "MaxDecrease = min(monthlyChanges)\n",
    "\n",
    "# find month index for the Max Increase and Max Decrease\n",
    "for i in range(len(monthlyChanges)):\n",
    "    if monthlyChanges[i] == MaxIncrease:\n",
    "        maxIndex = (i - 1)\n",
    "    elif monthlyChanges[i] == MaxDecrease:\n",
    "        minIndex = (i - 1)\n",
    "    else:\n",
    "        i += 1\n",
    "        \n",
    "MaxMonth = monthList[maxIndex]\n",
    "MinMonth = monthList[minIndex]\n",
    "\n",
    "# Financial Analysis\n",
    "# ----------------------------\n",
    "# Total Months: 86\n",
    "# Total: $38382578\n",
    "# Average  Change: $-2315.12\n",
    "# Greatest Increase in Profits: Feb-2012 ($1926159)\n",
    "# Greatest Decrease in Profits: Sep-2013 ($-2196167)\n",
    "\n",
    "print(\"Financial Analysis\")\n",
    "print(\"-\"*50)\n",
    "print(f\"Total Months: {MonthCount}\")\n",
    "print(f\"Total: ${Total}\")\n",
    "print(f\"Average Change: ${AvgChange}\")\n",
    "print(f\"Greatest Increase in Profits: {MaxMonth}  (${MaxIncrease})\")\n",
    "print(f\"Greatest Decrease in Profits: {MinMonth} (${MaxDecrease})\")\n",
    "\n",
    "# write financial analysis summary to txt file\n",
    "outputfile = 'summary.txt'\n",
    "\n",
    "# use \"\\n\" to create a new line\n",
    "with  open(outputfile, 'w') as output:\n",
    "    output.write(\"Financial Analysis\\n\")\n",
    "    output.write(\"-\"*50 + \"\\n\")\n",
    "    output.write(f\"Total Months: {MonthCount}\\n\")\n",
    "    output.write(f\"Total: ${Total}\\n\")\n",
    "    output.write(f\"Average Change: ${AvgChange}\")\n",
    "    output.write(f\"Greatest Increase in Profits: {MaxMonth}  (${MaxIncrease})\\n\")\n",
    "    output.write(f\"Greatest Decrease in Profits: {MinMonth} (${MaxDecrease})\")"
   ]
  },
  {
   "cell_type": "code",
   "execution_count": null,
   "metadata": {},
   "outputs": [],
   "source": []
  }
 ],
 "metadata": {
  "kernelspec": {
   "display_name": "Python(PythonData)",
   "language": "python",
   "name": "pythondata"
  },
  "language_info": {
   "codemirror_mode": {
    "name": "ipython",
    "version": 3
   },
   "file_extension": ".py",
   "mimetype": "text/x-python",
   "name": "python",
   "nbconvert_exporter": "python",
   "pygments_lexer": "ipython3",
   "version": "3.6.7"
  }
 },
 "nbformat": 4,
 "nbformat_minor": 2
}
